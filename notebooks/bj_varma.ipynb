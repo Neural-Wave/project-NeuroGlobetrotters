{
 "cells": [
  {
   "cell_type": "code",
   "execution_count": 3,
   "metadata": {},
   "outputs": [
    {
     "data": {
      "text/plain": [
       "<lingam.var_lingam.VARLiNGAM at 0x7efbf98a4970>"
      ]
     },
     "execution_count": 3,
     "metadata": {},
     "output_type": "execute_result"
    }
   ],
   "source": [
    "import numpy as np\n",
    "import pandas as pd\n",
    "from lingam import VARLiNGAM\n",
    "from sklearn.preprocessing import MinMaxScaler\n",
    "\n",
    "# Load and preprocess the merged dataset\n",
    "data = pd.read_csv('./merged_threshold_240_scrap.csv')\n",
    "data = data.drop(columns=['Faulty'])\n",
    "\n",
    "# Scale the data if necessary\n",
    "scaler = MinMaxScaler()\n",
    "data_scaled = scaler.fit_transform(data)\n",
    "df_scaled = pd.DataFrame(data_scaled, columns=data.columns)\n",
    "\n",
    "# Initialize and fit the VARMA-LiNGAM model\n",
    "model = VARLiNGAM(prune=True, random_state=42)\n",
    "model.fit(df_scaled)\n",
    "\n"
   ]
  },
  {
   "cell_type": "code",
   "execution_count": 13,
   "metadata": {},
   "outputs": [
    {
     "data": {
      "text/plain": [
       "'var_lingam_graph.pdf'"
      ]
     },
     "execution_count": 13,
     "metadata": {},
     "output_type": "execute_result"
    }
   ],
   "source": [
    "from lingam.utils import make_dot\n",
    "\n",
    "# Convert columns to a list to avoid ambiguity\n",
    "labels = list(data.columns)\n",
    "\n",
    "# Plot the contemporaneous graph\n",
    "make_dot(adjacency_matrices[0], labels=labels).render(\"var_lingam_graph\", format='pdf')"
   ]
  },
  {
   "cell_type": "code",
   "execution_count": 11,
   "metadata": {},
   "outputs": [
    {
     "data": {
      "text/plain": [
       "array([[0.        , 0.        , 0.        , ..., 0.        , 0.        ,\n",
       "        0.        ],\n",
       "       [0.        , 0.        , 0.19689691, ..., 0.        , 0.        ,\n",
       "        0.        ],\n",
       "       [0.        , 0.        , 0.        , ..., 0.        , 0.        ,\n",
       "        0.        ],\n",
       "       ...,\n",
       "       [0.        , 0.        , 0.        , ..., 0.        , 0.        ,\n",
       "        0.        ],\n",
       "       [0.        , 0.        , 0.        , ..., 0.        , 0.        ,\n",
       "        0.        ],\n",
       "       [0.        , 0.        , 0.        , ..., 0.        , 0.        ,\n",
       "        0.        ]])"
      ]
     },
     "execution_count": 11,
     "metadata": {},
     "output_type": "execute_result"
    }
   ],
   "source": [
    "adjacency_matrices[0]"
   ]
  },
  {
   "cell_type": "code",
   "execution_count": 17,
   "metadata": {},
   "outputs": [
    {
     "data": {
      "text/plain": [
       "array([[ 0, -1, -1, ..., -1, -1, -1],\n",
       "       [-1,  0, -1, ..., -1, -1, -1],\n",
       "       [-1, -1,  0, ..., -1, -1, -1],\n",
       "       ...,\n",
       "       [ 0,  0,  0, ...,  0, -1, -1],\n",
       "       [ 0,  0,  0, ..., -1,  0, -1],\n",
       "       [ 0,  0,  0, ..., -1, -1,  0]])"
      ]
     },
     "execution_count": 17,
     "metadata": {},
     "output_type": "execute_result"
    }
   ],
   "source": [
    "def prior_knowledge_matrix(columns):\n",
    "    \"\"\"\n",
    "    prior knowledge matrix for LiNGAM where:\n",
    "    0: no directed path possible (temporal constraint violation)\n",
    "    1: directed path \n",
    "    -1: no prior knowledge (we'll allow the algorithm to determine)\n",
    "    \"\"\"\n",
    "    n_features = len(columns)\n",
    "    prior_knowledge = np.full((n_features, n_features), -1)\n",
    "    \n",
    "    # get station number \n",
    "    def get_station_number(col_name):\n",
    "        return int(col_name.split('_')[0].replace('Station', ''))\n",
    "    \n",
    "    # get measurement point number\n",
    "    def get_mp_number(col_name):\n",
    "        return int(col_name.split('_')[2])\n",
    "    \n",
    "    for i in range(n_features):\n",
    "        for j in range(n_features):\n",
    "            station_i = get_station_number(columns[i])\n",
    "            station_j = get_station_number(columns[j])\n",
    "            \n",
    "            # constraint\n",
    "            if station_i > station_j:\n",
    "                prior_knowledge[i, j] = 0\n",
    "            \n",
    "            # should we allow internal dependencies? \n",
    "            # if station_i == station_j:\n",
    "            #     prior_knowledge[i, j] = -1  # Let LiNGAM determine\n",
    "    \n",
    "    # No self loop allowed\n",
    "    np.fill_diagonal(prior_knowledge, 0)\n",
    "    \n",
    "    return prior_knowledge\n",
    "\n",
    "\n",
    "# Create the prior knowledge matrix\n",
    "prior_knowledge = prior_knowledge_matrix(data.columns)\n",
    "prior_knowledge"
   ]
  },
  {
   "cell_type": "code",
   "execution_count": 18,
   "metadata": {},
   "outputs": [
    {
     "name": "stdout",
     "output_type": "stream",
     "text": [
      "Adjusted Adjacency Matrix:\n",
      " [[0.         0.         0.         ... 0.         0.         0.        ]\n",
      " [0.         0.         0.19689691 ... 0.         0.         0.        ]\n",
      " [0.         0.         0.         ... 0.         0.         0.        ]\n",
      " ...\n",
      " [0.         0.         0.         ... 0.         0.         0.        ]\n",
      " [0.         0.         0.         ... 0.         0.         0.        ]\n",
      " [0.         0.         0.         ... 0.         0.         0.        ]]\n"
     ]
    }
   ],
   "source": [
    "adjusted_adjacency_matrix = np.where(prior_knowledge.T == 0, 0, adjacency_matrices[0])\n",
    "\n",
    "print(\"Adjusted Adjacency Matrix:\\n\", adjusted_adjacency_matrix)"
   ]
  },
  {
   "cell_type": "code",
   "execution_count": 19,
   "metadata": {},
   "outputs": [
    {
     "data": {
      "text/plain": [
       "'var_lingam_graph.pdf'"
      ]
     },
     "execution_count": 19,
     "metadata": {},
     "output_type": "execute_result"
    }
   ],
   "source": [
    "make_dot(adjusted_adjacency_matrix, labels=labels).render(\"var_lingam_graph\", format='pdf')"
   ]
  },
  {
   "cell_type": "code",
   "execution_count": 21,
   "metadata": {},
   "outputs": [
    {
     "data": {
      "text/plain": [
       "array([[0.        , 0.        , 0.        , ..., 0.        , 0.        ,\n",
       "        0.        ],\n",
       "       [0.        , 0.        , 0.19689691, ..., 0.        , 0.        ,\n",
       "        0.        ],\n",
       "       [0.        , 0.        , 0.        , ..., 0.        , 0.        ,\n",
       "        0.        ],\n",
       "       ...,\n",
       "       [0.        , 0.        , 0.        , ..., 0.        , 0.        ,\n",
       "        0.        ],\n",
       "       [0.        , 0.        , 0.        , ..., 0.        , 0.        ,\n",
       "        0.        ],\n",
       "       [0.        , 0.        , 0.        , ..., 0.        , 0.        ,\n",
       "        0.        ]])"
      ]
     },
     "execution_count": 21,
     "metadata": {},
     "output_type": "execute_result"
    }
   ],
   "source": [
    "adjusted_adjacency_matrix"
   ]
  },
  {
   "cell_type": "code",
   "execution_count": 22,
   "metadata": {},
   "outputs": [],
   "source": [
    "adjusted_adjacency_matrix_df = pd.DataFrame(adjusted_adjacency_matrix, columns=data.columns, index=data.columns)"
   ]
  },
  {
   "cell_type": "code",
   "execution_count": 27,
   "metadata": {},
   "outputs": [
    {
     "data": {
      "text/plain": [
       "Station4_mp_61    0.000000\n",
       "Station4_mp_73    0.000000\n",
       "Station4_mp_72    0.000000\n",
       "Station4_mp_71    0.000000\n",
       "Station4_mp_70    0.000000\n",
       "                    ...   \n",
       "Station2_mp_29    0.000000\n",
       "Station2_mp_28    0.000000\n",
       "Station2_mp_27    0.000000\n",
       "Station2_mp_8     0.000000\n",
       "Station2_mp_13    0.358685\n",
       "Name: Station5_mp_85, Length: 98, dtype: float64"
      ]
     },
     "execution_count": 27,
     "metadata": {},
     "output_type": "execute_result"
    }
   ],
   "source": [
    "adjusted_adjacency_matrix_df.loc[\"Station5_mp_85\"].sort_values(ascending=True)"
   ]
  },
  {
   "cell_type": "code",
   "execution_count": 35,
   "metadata": {},
   "outputs": [
    {
     "data": {
      "text/plain": [
       "Station4_mp_61    0.000000\n",
       "Station4_mp_73    0.000000\n",
       "Station4_mp_72    0.000000\n",
       "Station4_mp_71    0.000000\n",
       "Station4_mp_70    0.000000\n",
       "                    ...   \n",
       "Station2_mp_29    0.000000\n",
       "Station2_mp_28    0.000000\n",
       "Station2_mp_27    0.000000\n",
       "Station2_mp_8     0.000000\n",
       "Station2_mp_13    0.358685\n",
       "Name: Station5_mp_85, Length: 98, dtype: float64"
      ]
     },
     "execution_count": 35,
     "metadata": {},
     "output_type": "execute_result"
    }
   ],
   "source": [
    "adjusted_adjacency_matrix_df.T[\"Station5_mp_85\"].sort_values(ascending=True)"
   ]
  },
  {
   "cell_type": "code",
   "execution_count": 36,
   "metadata": {},
   "outputs": [],
   "source": [
    "adjusted_adjacency_matrix_df.T.to_csv('adj_matrix_var_lag1.csv')"
   ]
  },
  {
   "cell_type": "markdown",
   "metadata": {},
   "source": [
    "adding lag 3"
   ]
  },
  {
   "cell_type": "code",
   "execution_count": 2,
   "metadata": {},
   "outputs": [],
   "source": [
    "import numpy as np\n",
    "import pandas as pd\n",
    "from lingam import VARLiNGAM\n",
    "from sklearn.preprocessing import MinMaxScaler\n",
    "\n",
    "# Load and preprocess the merged dataset\n",
    "data = pd.read_csv('./merged_threshold_240_scrap.csv')\n",
    "data = data.drop(columns=['Faulty'])\n",
    "# Scale the data if necessary\n",
    "scaler = MinMaxScaler()\n",
    "data_scaled = scaler.fit_transform(data)\n",
    "df_scaled = pd.DataFrame(data_scaled, columns=data.columns)"
   ]
  },
  {
   "cell_type": "code",
   "execution_count": 3,
   "metadata": {},
   "outputs": [
    {
     "data": {
      "text/plain": [
       "<lingam.var_lingam.VARLiNGAM at 0x7f6eb8bd10c0>"
      ]
     },
     "execution_count": 3,
     "metadata": {},
     "output_type": "execute_result"
    }
   ],
   "source": [
    "model = VARLiNGAM(lags=3, prune=True, random_state=42)\n",
    "model.fit(df_scaled)\n"
   ]
  },
  {
   "cell_type": "code",
   "execution_count": 7,
   "metadata": {},
   "outputs": [],
   "source": [
    "adjacency_matrices = model.adjacency_matrices_"
   ]
  },
  {
   "cell_type": "code",
   "execution_count": 8,
   "metadata": {},
   "outputs": [
    {
     "name": "stdout",
     "output_type": "stream",
     "text": [
      "Adjusted Adjacency Matrix:\n",
      " [[0.         0.         0.         ... 0.         0.         0.        ]\n",
      " [0.         0.         0.19663143 ... 0.         0.         0.        ]\n",
      " [0.         0.         0.         ... 0.         0.         0.        ]\n",
      " ...\n",
      " [0.         0.         0.         ... 0.         0.         0.        ]\n",
      " [0.         0.         0.         ... 0.         0.         0.        ]\n",
      " [0.         0.         0.         ... 0.         0.         0.        ]]\n"
     ]
    }
   ],
   "source": [
    "adjusted_adjacency_matrix = np.where(prior_knowledge.T == 0, 0, adjacency_matrices[0])\n",
    "\n",
    "print(\"Adjusted Adjacency Matrix:\\n\", adjusted_adjacency_matrix)"
   ]
  },
  {
   "cell_type": "code",
   "execution_count": 9,
   "metadata": {},
   "outputs": [
    {
     "name": "stdout",
     "output_type": "stream",
     "text": [
      "Adjusted Adjacency Matrix:\n",
      " [[0.         0.         0.         ... 0.         0.         0.        ]\n",
      " [0.         0.         0.19663143 ... 0.         0.         0.        ]\n",
      " [0.         0.         0.         ... 0.         0.         0.        ]\n",
      " ...\n",
      " [0.         0.         0.         ... 0.         0.         0.        ]\n",
      " [0.         0.         0.         ... 0.         0.         0.        ]\n",
      " [0.         0.         0.         ... 0.         0.         0.        ]]\n"
     ]
    },
    {
     "data": {
      "text/plain": [
       "'var_lingam_graph_lag3.pdf'"
      ]
     },
     "execution_count": 9,
     "metadata": {},
     "output_type": "execute_result"
    }
   ],
   "source": [
    "from lingam.utils import make_dot\n",
    "\n",
    "# Convert columns to a list to avoid ambiguity\n",
    "labels = list(data.columns)\n",
    "\n",
    "def prior_knowledge_matrix(columns):\n",
    "    \"\"\"\n",
    "    prior knowledge matrix for LiNGAM where:\n",
    "    0: no directed path possible (temporal constraint violation)\n",
    "    1: directed path \n",
    "    -1: no prior knowledge (we'll allow the algorithm to determine)\n",
    "    \"\"\"\n",
    "    n_features = len(columns)\n",
    "    prior_knowledge = np.full((n_features, n_features), -1)\n",
    "    \n",
    "    # get station number \n",
    "    def get_station_number(col_name):\n",
    "        return int(col_name.split('_')[0].replace('Station', ''))\n",
    "    \n",
    "    # get measurement point number\n",
    "    def get_mp_number(col_name):\n",
    "        return int(col_name.split('_')[2])\n",
    "    \n",
    "    for i in range(n_features):\n",
    "        for j in range(n_features):\n",
    "            station_i = get_station_number(columns[i])\n",
    "            station_j = get_station_number(columns[j])\n",
    "            \n",
    "            # constraint\n",
    "            if station_i > station_j:\n",
    "                prior_knowledge[i, j] = 0\n",
    "            \n",
    "            # should we allow internal dependencies? \n",
    "            # if station_i == station_j:\n",
    "            #     prior_knowledge[i, j] = -1  # Let LiNGAM determine\n",
    "    \n",
    "    # No self loop allowed\n",
    "    np.fill_diagonal(prior_knowledge, 0)\n",
    "    \n",
    "    return prior_knowledge\n",
    "\n",
    "\n",
    "# Create the prior knowledge matrix\n",
    "prior_knowledge = prior_knowledge_matrix(data.columns)\n",
    "prior_knowledge\n",
    "\n",
    "adjusted_adjacency_matrix = np.where(prior_knowledge.T == 0, 0, adjacency_matrices[0])\n",
    "\n",
    "print(\"Adjusted Adjacency Matrix:\\n\", adjusted_adjacency_matrix)\n",
    "\n",
    "make_dot(adjusted_adjacency_matrix, labels=labels).render(\"var_lingam_graph_lag3\", format='pdf')"
   ]
  },
  {
   "cell_type": "code",
   "execution_count": 12,
   "metadata": {},
   "outputs": [],
   "source": [
    "adjusted_adjacency_matrix_df = pd.DataFrame(adjusted_adjacency_matrix, columns=data.columns, index=data.columns)"
   ]
  },
  {
   "cell_type": "code",
   "execution_count": 14,
   "metadata": {},
   "outputs": [],
   "source": [
    "adjusted_adjacency_matrix_df.T.to_csv('adj_matrix_var_lag3.csv')"
   ]
  },
  {
   "cell_type": "markdown",
   "metadata": {},
   "source": [
    "ADDING LAG 5"
   ]
  },
  {
   "cell_type": "code",
   "execution_count": 1,
   "metadata": {},
   "outputs": [
    {
     "data": {
      "text/plain": [
       "<lingam.var_lingam.VARLiNGAM at 0x7f6df5b87100>"
      ]
     },
     "execution_count": 1,
     "metadata": {},
     "output_type": "execute_result"
    }
   ],
   "source": [
    "import numpy as np\n",
    "import pandas as pd\n",
    "from lingam import VARLiNGAM\n",
    "from sklearn.preprocessing import MinMaxScaler\n",
    "\n",
    "# Load and preprocess the merged dataset\n",
    "data = pd.read_csv('./merged_threshold_240_scrap.csv')\n",
    "data = data.drop(columns=['Faulty'])\n",
    "# Scale the data if necessary\n",
    "scaler = MinMaxScaler()\n",
    "data_scaled = scaler.fit_transform(data)\n",
    "df_scaled = pd.DataFrame(data_scaled, columns=data.columns)\n",
    "\n",
    "model = VARLiNGAM(lags=5, prune=True, random_state=42)\n",
    "model.fit(df_scaled)\n"
   ]
  },
  {
   "cell_type": "code",
   "execution_count": null,
   "metadata": {},
   "outputs": [],
   "source": []
  }
 ],
 "metadata": {
  "kernelspec": {
   "display_name": "cloudspace",
   "language": "python",
   "name": "python3"
  },
  "language_info": {
   "codemirror_mode": {
    "name": "ipython",
    "version": 3
   },
   "file_extension": ".py",
   "mimetype": "text/x-python",
   "name": "python",
   "nbconvert_exporter": "python",
   "pygments_lexer": "ipython3",
   "version": "3.10.10"
  }
 },
 "nbformat": 4,
 "nbformat_minor": 2
}
